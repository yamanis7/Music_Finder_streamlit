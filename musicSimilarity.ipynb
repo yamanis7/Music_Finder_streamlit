{
 "cells": [
  {
   "cell_type": "code",
   "execution_count": 1,
   "metadata": {},
   "outputs": [],
   "source": [
    "import nltk\n",
    "#nltk.download('punkt')\n",
    "#nltk.download('stopwords')"
   ]
  },
  {
   "cell_type": "code",
   "execution_count": 2,
   "metadata": {},
   "outputs": [
    {
     "data": {
      "text/plain": [
       "WindowsPath('D:/Materi Kuliah/Semester 7/Sistem Temu Kembali Informasi/Proposal/app')"
      ]
     },
     "execution_count": 2,
     "metadata": {},
     "output_type": "execute_result"
    }
   ],
   "source": [
    "import pathlib\n",
    "pathlib.Path().resolve()"
   ]
  },
  {
   "cell_type": "code",
   "execution_count": 2,
   "metadata": {},
   "outputs": [
    {
     "data": {
      "text/html": [
       "<div>\n",
       "<style scoped>\n",
       "    .dataframe tbody tr th:only-of-type {\n",
       "        vertical-align: middle;\n",
       "    }\n",
       "\n",
       "    .dataframe tbody tr th {\n",
       "        vertical-align: top;\n",
       "    }\n",
       "\n",
       "    .dataframe thead th {\n",
       "        text-align: right;\n",
       "    }\n",
       "</style>\n",
       "<table border=\"1\" class=\"dataframe\">\n",
       "  <thead>\n",
       "    <tr style=\"text-align: right;\">\n",
       "      <th></th>\n",
       "      <th>artist_name</th>\n",
       "      <th>track_name</th>\n",
       "      <th>release_date</th>\n",
       "      <th>genre</th>\n",
       "      <th>lyrics</th>\n",
       "      <th>len</th>\n",
       "      <th>dating</th>\n",
       "      <th>violence</th>\n",
       "      <th>world/life</th>\n",
       "      <th>night/time</th>\n",
       "      <th>...</th>\n",
       "      <th>sadness</th>\n",
       "      <th>feelings</th>\n",
       "      <th>danceability</th>\n",
       "      <th>loudness</th>\n",
       "      <th>acousticness</th>\n",
       "      <th>instrumentalness</th>\n",
       "      <th>valence</th>\n",
       "      <th>energy</th>\n",
       "      <th>topic</th>\n",
       "      <th>age</th>\n",
       "    </tr>\n",
       "  </thead>\n",
       "  <tbody>\n",
       "    <tr>\n",
       "      <th>28367</th>\n",
       "      <td>zz top</td>\n",
       "      <td>old man</td>\n",
       "      <td>1970</td>\n",
       "      <td>blues</td>\n",
       "      <td>sleep away dream yesterday come care head tomo...</td>\n",
       "      <td>32</td>\n",
       "      <td>0.001880</td>\n",
       "      <td>0.139154</td>\n",
       "      <td>0.345720</td>\n",
       "      <td>0.001880</td>\n",
       "      <td>...</td>\n",
       "      <td>0.001880</td>\n",
       "      <td>0.001880</td>\n",
       "      <td>0.279757</td>\n",
       "      <td>0.615235</td>\n",
       "      <td>0.133533</td>\n",
       "      <td>0.344130</td>\n",
       "      <td>0.097279</td>\n",
       "      <td>0.342322</td>\n",
       "      <td>world/life</td>\n",
       "      <td>0.714286</td>\n",
       "    </tr>\n",
       "    <tr>\n",
       "      <th>28368</th>\n",
       "      <td>дэфолиант</td>\n",
       "      <td>валуев</td>\n",
       "      <td>2016</td>\n",
       "      <td>hip hop</td>\n",
       "      <td>feel wall fall feel lose feel sweetest sound f...</td>\n",
       "      <td>81</td>\n",
       "      <td>0.000810</td>\n",
       "      <td>0.239508</td>\n",
       "      <td>0.000810</td>\n",
       "      <td>0.020497</td>\n",
       "      <td>...</td>\n",
       "      <td>0.165541</td>\n",
       "      <td>0.348297</td>\n",
       "      <td>0.798549</td>\n",
       "      <td>0.787375</td>\n",
       "      <td>0.133533</td>\n",
       "      <td>0.000004</td>\n",
       "      <td>0.714551</td>\n",
       "      <td>0.939938</td>\n",
       "      <td>feelings</td>\n",
       "      <td>0.057143</td>\n",
       "    </tr>\n",
       "    <tr>\n",
       "      <th>28369</th>\n",
       "      <td>張露</td>\n",
       "      <td>夢斷巫山</td>\n",
       "      <td>1958</td>\n",
       "      <td>pop</td>\n",
       "      <td>remember remember thumb yeah baby time come ba...</td>\n",
       "      <td>45</td>\n",
       "      <td>0.162737</td>\n",
       "      <td>0.133445</td>\n",
       "      <td>0.315612</td>\n",
       "      <td>0.001422</td>\n",
       "      <td>...</td>\n",
       "      <td>0.001422</td>\n",
       "      <td>0.001422</td>\n",
       "      <td>0.411892</td>\n",
       "      <td>0.638259</td>\n",
       "      <td>0.909638</td>\n",
       "      <td>0.000791</td>\n",
       "      <td>0.593982</td>\n",
       "      <td>0.383364</td>\n",
       "      <td>world/life</td>\n",
       "      <td>0.885714</td>\n",
       "    </tr>\n",
       "    <tr>\n",
       "      <th>28370</th>\n",
       "      <td>張露</td>\n",
       "      <td>你去了那裡</td>\n",
       "      <td>1958</td>\n",
       "      <td>pop</td>\n",
       "      <td>right outside lazy summer home time soul criti...</td>\n",
       "      <td>95</td>\n",
       "      <td>0.000786</td>\n",
       "      <td>0.000786</td>\n",
       "      <td>0.113374</td>\n",
       "      <td>0.062054</td>\n",
       "      <td>...</td>\n",
       "      <td>0.215052</td>\n",
       "      <td>0.000786</td>\n",
       "      <td>0.559190</td>\n",
       "      <td>0.657180</td>\n",
       "      <td>0.937751</td>\n",
       "      <td>0.000007</td>\n",
       "      <td>0.846455</td>\n",
       "      <td>0.459443</td>\n",
       "      <td>music</td>\n",
       "      <td>0.885714</td>\n",
       "    </tr>\n",
       "    <tr>\n",
       "      <th>28371</th>\n",
       "      <td>彭家麗</td>\n",
       "      <td>從不喜歡孤單一個</td>\n",
       "      <td>1991</td>\n",
       "      <td>pop</td>\n",
       "      <td>lonely sidewalks silent night bring even deep ...</td>\n",
       "      <td>56</td>\n",
       "      <td>0.136184</td>\n",
       "      <td>0.001053</td>\n",
       "      <td>0.001053</td>\n",
       "      <td>0.301280</td>\n",
       "      <td>...</td>\n",
       "      <td>0.200115</td>\n",
       "      <td>0.040954</td>\n",
       "      <td>0.662082</td>\n",
       "      <td>0.698433</td>\n",
       "      <td>0.663654</td>\n",
       "      <td>0.000000</td>\n",
       "      <td>0.303380</td>\n",
       "      <td>0.503488</td>\n",
       "      <td>night/time</td>\n",
       "      <td>0.414286</td>\n",
       "    </tr>\n",
       "  </tbody>\n",
       "</table>\n",
       "<p>5 rows × 30 columns</p>\n",
       "</div>"
      ],
      "text/plain": [
       "      artist_name track_name  release_date    genre  \\\n",
       "28367      zz top    old man          1970    blues   \n",
       "28368   дэфолиант     валуев          2016  hip hop   \n",
       "28369          張露       夢斷巫山          1958      pop   \n",
       "28370          張露      你去了那裡          1958      pop   \n",
       "28371         彭家麗   從不喜歡孤單一個          1991      pop   \n",
       "\n",
       "                                                  lyrics  len    dating  \\\n",
       "28367  sleep away dream yesterday come care head tomo...   32  0.001880   \n",
       "28368  feel wall fall feel lose feel sweetest sound f...   81  0.000810   \n",
       "28369  remember remember thumb yeah baby time come ba...   45  0.162737   \n",
       "28370  right outside lazy summer home time soul criti...   95  0.000786   \n",
       "28371  lonely sidewalks silent night bring even deep ...   56  0.136184   \n",
       "\n",
       "       violence  world/life  night/time  ...   sadness  feelings  \\\n",
       "28367  0.139154    0.345720    0.001880  ...  0.001880  0.001880   \n",
       "28368  0.239508    0.000810    0.020497  ...  0.165541  0.348297   \n",
       "28369  0.133445    0.315612    0.001422  ...  0.001422  0.001422   \n",
       "28370  0.000786    0.113374    0.062054  ...  0.215052  0.000786   \n",
       "28371  0.001053    0.001053    0.301280  ...  0.200115  0.040954   \n",
       "\n",
       "       danceability  loudness  acousticness  instrumentalness   valence  \\\n",
       "28367      0.279757  0.615235      0.133533          0.344130  0.097279   \n",
       "28368      0.798549  0.787375      0.133533          0.000004  0.714551   \n",
       "28369      0.411892  0.638259      0.909638          0.000791  0.593982   \n",
       "28370      0.559190  0.657180      0.937751          0.000007  0.846455   \n",
       "28371      0.662082  0.698433      0.663654          0.000000  0.303380   \n",
       "\n",
       "         energy       topic       age  \n",
       "28367  0.342322  world/life  0.714286  \n",
       "28368  0.939938    feelings  0.057143  \n",
       "28369  0.383364  world/life  0.885714  \n",
       "28370  0.459443       music  0.885714  \n",
       "28371  0.503488  night/time  0.414286  \n",
       "\n",
       "[5 rows x 30 columns]"
      ]
     },
     "execution_count": 2,
     "metadata": {},
     "output_type": "execute_result"
    }
   ],
   "source": [
    "import pandas as pd\n",
    "\n",
    "ms = pd.read_csv('musicFinder_2.csv')\n",
    "ms.tail(5)"
   ]
  },
  {
   "cell_type": "code",
   "execution_count": 3,
   "metadata": {},
   "outputs": [
    {
     "name": "stdout",
     "output_type": "stream",
     "text": [
      "<class 'pandas.core.frame.DataFrame'>\n",
      "Index: 10412 entries, 0 to 28368\n",
      "Data columns (total 6 columns):\n",
      " #   Column        Non-Null Count  Dtype \n",
      "---  ------        --------------  ----- \n",
      " 0   artist_name   10412 non-null  object\n",
      " 1   track_name    10412 non-null  object\n",
      " 2   release_date  10412 non-null  int64 \n",
      " 3   genre         10412 non-null  object\n",
      " 4   lyrics        10412 non-null  object\n",
      " 5   topic         10412 non-null  object\n",
      "dtypes: int64(1), object(5)\n",
      "memory usage: 569.4+ KB\n"
     ]
    }
   ],
   "source": [
    "ms = ms[ms['release_date'] >= 2000]\n",
    "ms = ms[['artist_name', 'track_name','release_date', 'genre', 'lyrics', 'topic']]\n",
    "ms.info()"
   ]
  },
  {
   "cell_type": "code",
   "execution_count": 4,
   "metadata": {},
   "outputs": [],
   "source": [
    "import re\n",
    "import numpy as np\n",
    "\n",
    "stop_words = nltk.corpus.stopwords.words('english')\n",
    "\n",
    "def normalize_document(doc):\n",
    "    # lower case and remove special characters\\whitespaces\n",
    "    doc = re.sub(r'[^a-zA-Z0-9\\s]', '', doc, re.I|re.A)\n",
    "    doc = doc.lower()\n",
    "    doc = doc.strip()\n",
    "    # tokenize document\n",
    "    tokens = nltk.word_tokenize(doc)\n",
    "    #filter stopwords out of document\n",
    "    filtered_tokens = [token for token in tokens if token not in stop_words]\n",
    "    # re-create document from filtered tokens\n",
    "    doc = ' '.join(filtered_tokens)\n",
    "    return doc\n",
    "\n",
    "normalize_corpus = np.vectorize(normalize_document)\n",
    "\n",
    "norm_corpus = normalize_corpus(list(ms['lyrics']))\n",
    "#len(norm_corpus)"
   ]
  },
  {
   "cell_type": "code",
   "execution_count": 5,
   "metadata": {},
   "outputs": [
    {
     "data": {
      "text/plain": [
       "(10412, 80578)"
      ]
     },
     "execution_count": 5,
     "metadata": {},
     "output_type": "execute_result"
    }
   ],
   "source": [
    "from sklearn.feature_extraction.text import TfidfVectorizer\n",
    "\n",
    "tf = TfidfVectorizer(ngram_range=(1, 2), min_df=2)\n",
    "tfidf_matrix = tf.fit_transform(norm_corpus)\n",
    "tfidf_matrix.shape"
   ]
  },
  {
   "cell_type": "code",
   "execution_count": 6,
   "metadata": {},
   "outputs": [
    {
     "data": {
      "text/html": [
       "<div>\n",
       "<style scoped>\n",
       "    .dataframe tbody tr th:only-of-type {\n",
       "        vertical-align: middle;\n",
       "    }\n",
       "\n",
       "    .dataframe tbody tr th {\n",
       "        vertical-align: top;\n",
       "    }\n",
       "\n",
       "    .dataframe thead th {\n",
       "        text-align: right;\n",
       "    }\n",
       "</style>\n",
       "<table border=\"1\" class=\"dataframe\">\n",
       "  <thead>\n",
       "    <tr style=\"text-align: right;\">\n",
       "      <th></th>\n",
       "      <th>0</th>\n",
       "      <th>1</th>\n",
       "      <th>2</th>\n",
       "      <th>3</th>\n",
       "      <th>4</th>\n",
       "      <th>5</th>\n",
       "      <th>6</th>\n",
       "      <th>7</th>\n",
       "      <th>8</th>\n",
       "      <th>9</th>\n",
       "      <th>...</th>\n",
       "      <th>10402</th>\n",
       "      <th>10403</th>\n",
       "      <th>10404</th>\n",
       "      <th>10405</th>\n",
       "      <th>10406</th>\n",
       "      <th>10407</th>\n",
       "      <th>10408</th>\n",
       "      <th>10409</th>\n",
       "      <th>10410</th>\n",
       "      <th>10411</th>\n",
       "    </tr>\n",
       "  </thead>\n",
       "  <tbody>\n",
       "    <tr>\n",
       "      <th>0</th>\n",
       "      <td>1.000000</td>\n",
       "      <td>0.013849</td>\n",
       "      <td>0.011936</td>\n",
       "      <td>0.029469</td>\n",
       "      <td>0.003092</td>\n",
       "      <td>0.021731</td>\n",
       "      <td>0.002323</td>\n",
       "      <td>0.012186</td>\n",
       "      <td>0.013024</td>\n",
       "      <td>0.007144</td>\n",
       "      <td>...</td>\n",
       "      <td>0.017842</td>\n",
       "      <td>0.000566</td>\n",
       "      <td>0.070585</td>\n",
       "      <td>0.004579</td>\n",
       "      <td>0.065135</td>\n",
       "      <td>0.017317</td>\n",
       "      <td>0.000000</td>\n",
       "      <td>0.000000</td>\n",
       "      <td>0.001749</td>\n",
       "      <td>0.016804</td>\n",
       "    </tr>\n",
       "    <tr>\n",
       "      <th>1</th>\n",
       "      <td>0.013849</td>\n",
       "      <td>1.000000</td>\n",
       "      <td>0.065282</td>\n",
       "      <td>0.030266</td>\n",
       "      <td>0.018273</td>\n",
       "      <td>0.007429</td>\n",
       "      <td>0.005785</td>\n",
       "      <td>0.027885</td>\n",
       "      <td>0.005283</td>\n",
       "      <td>0.009016</td>\n",
       "      <td>...</td>\n",
       "      <td>0.023306</td>\n",
       "      <td>0.023432</td>\n",
       "      <td>0.051465</td>\n",
       "      <td>0.018488</td>\n",
       "      <td>0.037837</td>\n",
       "      <td>0.045046</td>\n",
       "      <td>0.000000</td>\n",
       "      <td>0.008375</td>\n",
       "      <td>0.009697</td>\n",
       "      <td>0.030501</td>\n",
       "    </tr>\n",
       "    <tr>\n",
       "      <th>2</th>\n",
       "      <td>0.011936</td>\n",
       "      <td>0.065282</td>\n",
       "      <td>1.000000</td>\n",
       "      <td>0.028440</td>\n",
       "      <td>0.005524</td>\n",
       "      <td>0.002984</td>\n",
       "      <td>0.002807</td>\n",
       "      <td>0.020703</td>\n",
       "      <td>0.004528</td>\n",
       "      <td>0.008211</td>\n",
       "      <td>...</td>\n",
       "      <td>0.019084</td>\n",
       "      <td>0.001182</td>\n",
       "      <td>0.007234</td>\n",
       "      <td>0.010697</td>\n",
       "      <td>0.010523</td>\n",
       "      <td>0.016183</td>\n",
       "      <td>0.004019</td>\n",
       "      <td>0.013402</td>\n",
       "      <td>0.003296</td>\n",
       "      <td>0.015090</td>\n",
       "    </tr>\n",
       "    <tr>\n",
       "      <th>3</th>\n",
       "      <td>0.029469</td>\n",
       "      <td>0.030266</td>\n",
       "      <td>0.028440</td>\n",
       "      <td>1.000000</td>\n",
       "      <td>0.004609</td>\n",
       "      <td>0.032571</td>\n",
       "      <td>0.012148</td>\n",
       "      <td>0.017541</td>\n",
       "      <td>0.014733</td>\n",
       "      <td>0.010516</td>\n",
       "      <td>...</td>\n",
       "      <td>0.059488</td>\n",
       "      <td>0.003514</td>\n",
       "      <td>0.013628</td>\n",
       "      <td>0.023689</td>\n",
       "      <td>0.089197</td>\n",
       "      <td>0.053597</td>\n",
       "      <td>0.010653</td>\n",
       "      <td>0.000000</td>\n",
       "      <td>0.017423</td>\n",
       "      <td>0.035938</td>\n",
       "    </tr>\n",
       "    <tr>\n",
       "      <th>4</th>\n",
       "      <td>0.003092</td>\n",
       "      <td>0.018273</td>\n",
       "      <td>0.005524</td>\n",
       "      <td>0.004609</td>\n",
       "      <td>1.000000</td>\n",
       "      <td>0.000713</td>\n",
       "      <td>0.004166</td>\n",
       "      <td>0.018170</td>\n",
       "      <td>0.000514</td>\n",
       "      <td>0.001345</td>\n",
       "      <td>...</td>\n",
       "      <td>0.012901</td>\n",
       "      <td>0.001406</td>\n",
       "      <td>0.002143</td>\n",
       "      <td>0.001530</td>\n",
       "      <td>0.006011</td>\n",
       "      <td>0.011839</td>\n",
       "      <td>0.004459</td>\n",
       "      <td>0.000000</td>\n",
       "      <td>0.000000</td>\n",
       "      <td>0.006145</td>\n",
       "    </tr>\n",
       "  </tbody>\n",
       "</table>\n",
       "<p>5 rows × 10412 columns</p>\n",
       "</div>"
      ],
      "text/plain": [
       "      0         1         2         3         4         5         6      \\\n",
       "0  1.000000  0.013849  0.011936  0.029469  0.003092  0.021731  0.002323   \n",
       "1  0.013849  1.000000  0.065282  0.030266  0.018273  0.007429  0.005785   \n",
       "2  0.011936  0.065282  1.000000  0.028440  0.005524  0.002984  0.002807   \n",
       "3  0.029469  0.030266  0.028440  1.000000  0.004609  0.032571  0.012148   \n",
       "4  0.003092  0.018273  0.005524  0.004609  1.000000  0.000713  0.004166   \n",
       "\n",
       "      7         8         9      ...     10402     10403     10404     10405  \\\n",
       "0  0.012186  0.013024  0.007144  ...  0.017842  0.000566  0.070585  0.004579   \n",
       "1  0.027885  0.005283  0.009016  ...  0.023306  0.023432  0.051465  0.018488   \n",
       "2  0.020703  0.004528  0.008211  ...  0.019084  0.001182  0.007234  0.010697   \n",
       "3  0.017541  0.014733  0.010516  ...  0.059488  0.003514  0.013628  0.023689   \n",
       "4  0.018170  0.000514  0.001345  ...  0.012901  0.001406  0.002143  0.001530   \n",
       "\n",
       "      10406     10407     10408     10409     10410     10411  \n",
       "0  0.065135  0.017317  0.000000  0.000000  0.001749  0.016804  \n",
       "1  0.037837  0.045046  0.000000  0.008375  0.009697  0.030501  \n",
       "2  0.010523  0.016183  0.004019  0.013402  0.003296  0.015090  \n",
       "3  0.089197  0.053597  0.010653  0.000000  0.017423  0.035938  \n",
       "4  0.006011  0.011839  0.004459  0.000000  0.000000  0.006145  \n",
       "\n",
       "[5 rows x 10412 columns]"
      ]
     },
     "execution_count": 6,
     "metadata": {},
     "output_type": "execute_result"
    }
   ],
   "source": [
    "from sklearn.metrics.pairwise import cosine_similarity\n",
    "\n",
    "doc_sim = cosine_similarity(tfidf_matrix)\n",
    "doc_sim_df = pd.DataFrame(doc_sim)\n",
    "doc_sim_df.head()"
   ]
  },
  {
   "cell_type": "code",
   "execution_count": 7,
   "metadata": {},
   "outputs": [
    {
     "name": "stdout",
     "output_type": "stream",
     "text": [
      "<class 'pandas.core.frame.DataFrame'>\n",
      "Index: 10412 entries, 0 to 28368\n",
      "Data columns (total 6 columns):\n",
      " #   Column        Non-Null Count  Dtype \n",
      "---  ------        --------------  ----- \n",
      " 0   artist_name   10412 non-null  object\n",
      " 1   track_name    10412 non-null  object\n",
      " 2   release_date  10412 non-null  int64 \n",
      " 3   genre         10412 non-null  object\n",
      " 4   lyrics        10412 non-null  object\n",
      " 5   topic         10412 non-null  object\n",
      "dtypes: int64(1), object(5)\n",
      "memory usage: 569.4+ KB\n"
     ]
    }
   ],
   "source": [
    "ms.info()"
   ]
  },
  {
   "cell_type": "code",
   "execution_count": 8,
   "metadata": {},
   "outputs": [
    {
     "data": {
      "text/plain": [
       "(array(['when your heart stops beating', 'appel local', 'leçon 3', ...,\n",
       "        'cossa nostra', 'i gotsta get paid', 'валуев'], dtype=object),\n",
       " (10412,))"
      ]
     },
     "execution_count": 8,
     "metadata": {},
     "output_type": "execute_result"
    }
   ],
   "source": [
    "song_list = ms['track_name'].values\n",
    "song_list, song_list.shape"
   ]
  },
  {
   "cell_type": "code",
   "execution_count": 9,
   "metadata": {},
   "outputs": [
    {
     "name": "stdout",
     "output_type": "stream",
     "text": [
      "Lagu yg dicari :  sunflower\n"
     ]
    },
    {
     "data": {
      "text/plain": [
       "6903"
      ]
     },
     "execution_count": 9,
     "metadata": {},
     "output_type": "execute_result"
    }
   ],
   "source": [
    "inputSong = input('Masukan lagu : ')\n",
    "print(\"Lagu yg dicari : \", inputSong)\n",
    "song_id = np.where(song_list == inputSong)[0][0]\n",
    "song_id"
   ]
  },
  {
   "cell_type": "code",
   "execution_count": 10,
   "metadata": {},
   "outputs": [
    {
     "data": {
      "text/plain": [
       "array([0.01606371, 0.03492977, 0.01759324, ..., 0.00427459, 0.01926632,\n",
       "       0.02397471])"
      ]
     },
     "execution_count": 10,
     "metadata": {},
     "output_type": "execute_result"
    }
   ],
   "source": [
    "song_similarities = doc_sim_df.iloc[song_id].values\n",
    "song_similarities"
   ]
  },
  {
   "cell_type": "code",
   "execution_count": 11,
   "metadata": {},
   "outputs": [
    {
     "data": {
      "text/plain": [
       "array([5908, 2882, 2508, 6059, 5163], dtype=int64)"
      ]
     },
     "execution_count": 11,
     "metadata": {},
     "output_type": "execute_result"
    }
   ],
   "source": [
    "similar_song_id = np.argsort(-song_similarities)[1:6]\n",
    "similar_song_id"
   ]
  },
  {
   "cell_type": "code",
   "execution_count": 12,
   "metadata": {},
   "outputs": [
    {
     "data": {
      "text/plain": [
       "array(['wrecking ball', 'dust my broom', 'real hip hop', 'wrecking ball',\n",
       "       'either way'], dtype=object)"
      ]
     },
     "execution_count": 12,
     "metadata": {},
     "output_type": "execute_result"
    }
   ],
   "source": [
    "similar_song = song_list[similar_song_id]\n",
    "similar_song"
   ]
  },
  {
   "cell_type": "code",
   "execution_count": 13,
   "metadata": {},
   "outputs": [],
   "source": [
    "def music_finder(song_name, songs = song_list, doc_sim=doc_sim_df):\n",
    "    song_id = np.where(songs == song_name)[0][0]\n",
    "    song_similarities = doc_sim.iloc[song_id].values\n",
    "    similar_song_id = np.argsort(-song_similarities)[1:6]\n",
    "    similar_song = songs[similar_song_id]\n",
    "    return similar_song"
   ]
  },
  {
   "cell_type": "code",
   "execution_count": 14,
   "metadata": {},
   "outputs": [
    {
     "name": "stdout",
     "output_type": "stream",
     "text": [
      "Top 5 rekomen lagu:  ['wrecking ball' 'dust my broom' 'real hip hop' 'wrecking ball'\n",
      " 'either way'] \n",
      "\n",
      "wrecking ball\n",
      "         artist_name     track_name  release_date  genre  \\\n",
      "12120      joe walsh  wrecking ball          2012  blues   \n",
      "16290    miley cyrus  wrecking ball          2013    pop   \n",
      "16630  mother mother  wrecking ball          2008   rock   \n",
      "\n",
      "                                                  lyrics       topic  \n",
      "12120  wind tight like hairpin trigger ready snap dri...  world/life  \n",
      "16290  claw chain hearts vain jump ask kiss fell spel...     sadness  \n",
      "16630  wreck hand wall fist plan reckless wreck ball ...    violence   \n",
      "\n",
      "dust my broom\n",
      "     artist_name     track_name  release_date  genre  \\\n",
      "8118  etta james  dust my broom          2004  blues   \n",
      "\n",
      "                                                 lyrics     topic  \n",
      "8118  dust broom inside room dust broom inside room ...  violence   \n",
      "\n",
      "real hip hop\n",
      "      artist_name    track_name  release_date    genre  \\\n",
      "6571    dj tomekk  real hip hop          2013  hip hop   \n",
      "14404   lil' flip  real hip hop          2018  hip hop   \n",
      "\n",
      "                                                  lyrics     topic  \n",
      "6571   dust carry corrupt humanity pummel opulence co...  violence  \n",
      "14404  talk haha know right real water shit rest peac...   obscene   \n",
      "\n",
      "wrecking ball\n",
      "         artist_name     track_name  release_date  genre  \\\n",
      "12120      joe walsh  wrecking ball          2012  blues   \n",
      "16290    miley cyrus  wrecking ball          2013    pop   \n",
      "16630  mother mother  wrecking ball          2008   rock   \n",
      "\n",
      "                                                  lyrics       topic  \n",
      "12120  wind tight like hairpin trigger ready snap dri...  world/life  \n",
      "16290  claw chain hearts vain jump ask kiss fell spel...     sadness  \n",
      "16630  wreck hand wall fist plan reckless wreck ball ...    violence   \n",
      "\n",
      "either way\n",
      "          artist_name  track_name  release_date    genre  \\\n",
      "1989       beta radio  either way          2010      pop   \n",
      "14147  lee ann womack  either way          2008  country   \n",
      "\n",
      "                                                  lyrics       topic  \n",
      "1989   design time turn light leave light design time...  night/time  \n",
      "14147  pass separate room time talk monthly bill work...     sadness   \n",
      "\n"
     ]
    }
   ],
   "source": [
    "song = input(\"Judul lagu: \")\n",
    "result = music_finder(song_name = song, songs = song_list, doc_sim=doc_sim_df)\n",
    "print(\"Top 5 rekomen lagu: \", result ,\"\\n\")\n",
    "detail = ms.loc[ms['track_name'].isin(result)]\n",
    "sorted_detail = detail.sort_values(by='track_name')\n",
    "for i in result:\n",
    "    print(i)\n",
    "    if i in ms['track_name'].values:\n",
    "        detail = ms[ms['track_name'] == i]\n",
    "        print(detail, \"\\n\")"
   ]
  },
  {
   "cell_type": "code",
   "execution_count": 15,
   "metadata": {},
   "outputs": [
    {
     "name": "stdout",
     "output_type": "stream",
     "text": [
      "Lagu yang dicari :  sunflower\n",
      "Top 5 rekomen lagu:  ['wrecking ball' 'dust my broom' 'real hip hop' 'wrecking ball'\n",
      " 'either way'] \n",
      "\n",
      "beta radio           either way           2010       pop        night/time\n",
      "dj tomekk            real hip hop         2013       hip hop    violence  \n",
      "etta james           dust my broom        2004       blues      violence  \n",
      "joe walsh            wrecking ball        2012       blues      world/life\n",
      "lee ann womack       either way           2008       country    sadness   \n",
      "lil' flip            real hip hop         2018       hip hop    obscene   \n",
      "miley cyrus          wrecking ball        2013       pop        sadness   \n",
      "mother mother        wrecking ball        2008       rock       violence  \n"
     ]
    }
   ],
   "source": [
    "song = input(\"Judul lagu: \")\n",
    "print(\"Lagu yang dicari : \", song)\n",
    "result = music_finder(song_name = song, songs = song_list, doc_sim=doc_sim_df)\n",
    "print(\"Top 5 rekomen lagu: \", result ,\"\\n\")\n",
    "detail = ms.loc[ms['track_name'].isin(result)]\n",
    "#sorted_detail = detail.sort_values(by='track_name')\n",
    "\n",
    "for index, row in detail.iterrows():\n",
    "    artist_name = row['artist_name']\n",
    "    track_name = row['track_name']\n",
    "    release_date = row['release_date']\n",
    "    genre = row['genre']\n",
    "    topic = row['topic']\n",
    "\n",
    "    # Print song details\n",
    "    print(\"{:<20} {:<20} {:<10} {:<10} {:<10}\".format(artist_name, track_name, release_date, genre, topic))"
   ]
  }
 ],
 "metadata": {
  "kernelspec": {
   "display_name": "Python 3",
   "language": "python",
   "name": "python3"
  },
  "language_info": {
   "codemirror_mode": {
    "name": "ipython",
    "version": 3
   },
   "file_extension": ".py",
   "mimetype": "text/x-python",
   "name": "python",
   "nbconvert_exporter": "python",
   "pygments_lexer": "ipython3",
   "version": "3.12.1"
  }
 },
 "nbformat": 4,
 "nbformat_minor": 2
}
